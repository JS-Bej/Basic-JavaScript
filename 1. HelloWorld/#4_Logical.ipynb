{
 "cells": [
  {
   "cell_type": "markdown",
   "id": "0b702be7",
   "metadata": {},
   "source": [
    "When it's necessary to met more than one condition, there's these logical operators that helps us with a better flow control:\n",
    "\n",
    "- The `||` operator is used when you want _one or any of the conditions_ to be true,   like as an **OR**\n",
    "- The `&&` operator is used when you want _all the conditions_ specified to be true,   like as an **AND**\n",
    "- The `!`  operator is used when you want a false condition to be true and vice versa, like as a **NOT**"
   ]
  },
  {
   "cell_type": "code",
   "execution_count": null,
   "id": "74779698",
   "metadata": {
    "vscode": {
     "languageId": "javascript"
    }
   },
   "outputs": [],
   "source": [
    "let a=1,b=3,c=3;\n",
    "if(a<b && a<c){\n",
    "    console.log(a+\" is the smallest number here.\") // ✅\n",
    "}\n",
    "if(a==b || b==c){\n",
    "    console.log(\"There are atleast one repeated number.\") // ✅\n",
    "}\n",
    "let t=true,f=false;\n",
    "if(!t){\n",
    "    console.log(\"This is false.\")\n",
    "}else if(!f){\n",
    "    console.log(\"This is true.\") // ✅\n",
    "}"
   ]
  },
  {
   "cell_type": "markdown",
   "id": "7aad0393",
   "metadata": {},
   "source": [
    "Here's a truth table to understand better this concept:\n",
    "\n",
    "<div align=center>\n",
    "\n",
    "| A | B | A && B | A \\|\\| B | !A | !B |\n",
    "|---|---|--------|----------|----|----|\n",
    "| ✅ `true` | ✅ `true` | ✅ `true` | ✅ `true` | ❌ `false` | ❌ `false` |\n",
    "| ✅ `true` | ❌ `false` | ❌ `false` | ✅ `true` | ❌ `false` | ✅ `true` |\n",
    "| ❌ `false` | ✅ `true` | ❌ `false` | ✅ `true` | ✅ `true` | ❌ `false` |\n",
    "| ❌ `false` | ❌ `false` | ❌ `false` | ❌ `false` | ✅ `true` | ✅ `true` |\n",
    "\n",
    "</div>"
   ]
  }
 ],
 "metadata": {
  "language_info": {
   "name": "python"
  }
 },
 "nbformat": 4,
 "nbformat_minor": 5
}
