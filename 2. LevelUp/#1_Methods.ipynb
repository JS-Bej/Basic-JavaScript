{
 "cells": [
  {
   "cell_type": "markdown",
   "id": "a9085ea5",
   "metadata": {},
   "source": [
    "<div align=center>\n",
    "\n",
    "## **Complete Array Methods Reference**\n",
    "\n",
    "| Method | Description | Returns | Example |\n",
    "|--------|-------------|---------|---------|\n",
    "| **`push()`** | Adds elements to the end of array | New length | `arr.push(4)` |\n",
    "| **`pop()`** | Removes last element | Removed element | `arr.pop()` |\n",
    "| **`shift()`** | Removes first element | Removed element | `arr.shift()` |\n",
    "| **`unshift()`** | Adds elements to the beginning | New length | `arr.unshift(0)` |\n",
    "| **`splice()`** | Adds/removes elements at any position | Removed elements | `arr.splice(1, 2, 'new')` |\n",
    "| **`slice()`** | Extracts a section (doesn't modify) | New array | `arr.slice(1, 3)` |\n",
    "| **`concat()`** | Joins arrays together | New array | `arr1.concat(arr2)` |\n",
    "| **`join()`** | Converts array to string | String | `arr.join(', ')` |\n",
    "| **`reverse()`** | Reverses array order | Modified array | `arr.reverse()` |\n",
    "| **`sort()`** | Sorts array elements | Modified array | `arr.sort()` |\n",
    "| **`indexOf()`** | Finds first index of element | Index or -1 | `arr.indexOf('item')` |\n",
    "| **`lastIndexOf()`** | Finds last index of element | Index or -1 | `arr.lastIndexOf('item')` |\n",
    "| **`includes()`** | Checks if element exists | Boolean | `arr.includes('item')` |\n",
    "| **`find()`** | Finds first matching element | Element or undefined | `arr.find(x => x > 5)` |\n",
    "| **`findIndex()`** | Finds index of first match | Index or -1 | `arr.findIndex(x => x > 5)` |\n",
    "| **`filter()`** | Creates array with elements that pass test | New array | `arr.filter(x => x > 5)` |\n",
    "| **`map()`** | Creates new array by transforming elements | New array | `arr.map(x => x * 2)` |\n",
    "| **`reduce()`** | Reduces array to single value | Any type | `arr.reduce((sum, x) => sum + x)` |\n",
    "| **`reduceRight()`** | Reduces from right to left | Any type | `arr.reduceRight((sum, x) => sum + x)` |\n",
    "| **`forEach()`** | Executes function for each element | undefined | `arr.forEach(x => console.log(x))` |\n",
    "| **`some()`** | Tests if any element passes test | Boolean | `arr.some(x => x > 5)` |\n",
    "| **`every()`** | Tests if all elements pass test | Boolean | `arr.every(x => x > 0)` |\n",
    "| **`flat()`** | Flattens nested arrays | New array | `arr.flat(2)` |\n",
    "| **`flatMap()`** | Maps then flattens | New array | `arr.flatMap(x => [x, x * 2])` |\n",
    "| **`fill()`** | Fills array with static value | Modified array | `arr.fill(0, 1, 3)` |\n",
    "| **`copyWithin()`** | Copies elements within array | Modified array | `arr.copyWithin(0, 3, 4)` |\n",
    "\n",
    "</div>"
   ]
  }
 ],
 "metadata": {
  "language_info": {
   "name": "python"
  }
 },
 "nbformat": 4,
 "nbformat_minor": 5
}
